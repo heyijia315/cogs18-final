{
 "cells": [
  {
   "cell_type": "markdown",
   "metadata": {},
   "source": [
    "# Project Description\n",
    "\n",
    "For my final project, I created a simple customer service bot about orders. The purpose of my bot is to get the directions of tracking and returning orders for the customers. First, the bot will ask about the customer's need of helping with his/her orders. Based on customer's need of traching or returning order, the bot will give the instruction of either tracking or returning order. If the customer's input is out of the range of bot's knowledge, the bot will provide a phone number for the customer to call for help. After giving the instruction, the bot will ask if the customer still needs help. If the customer doesn't need help anymore, the chat will end. Otherwise, the bot will go over the procedure again."
   ]
  },
  {
   "cell_type": "markdown",
   "metadata": {},
   "source": [
    "## Code"
   ]
  },
  {
   "cell_type": "code",
   "execution_count": 2,
   "metadata": {},
   "outputs": [],
   "source": [
    "from my_module.customer_service_bot_functions import *\n",
    "from my_module.test_functions import *"
   ]
  },
  {
   "cell_type": "code",
   "execution_count": 3,
   "metadata": {},
   "outputs": [
    {
     "name": "stdout",
     "output_type": "stream",
     "text": [
      "Hi. I'm your Amazon customer service assistant.\n",
      "What can I help you about your orders?\n",
      "check my order\n",
      "On 'Your Orders' page, click the 'Track package' and get the deliver information of your package.\n",
      "Do you need other help?\n",
      "return my order\n",
      "One 'Your Orders' page and click 'Return or place items' to return your item.\n",
      "Do you need other help?\n",
      "refund\n",
      "One 'Your Orders' page and click 'Return or place items' to return your item.\n",
      "Do you need other help?\n",
      "when my order will be delivered\n",
      "On 'Your Orders' page, click the 'Track package' and get the deliver information of your package.\n",
      "Do you need other help?\n",
      "thanks\n",
      "Bye. Have a nice day!\n"
     ]
    }
   ],
   "source": [
    "#start the chat\n",
    "customer_service()"
   ]
  },
  {
   "cell_type": "code",
   "execution_count": null,
   "metadata": {},
   "outputs": [],
   "source": []
  }
 ],
 "metadata": {
  "kernelspec": {
   "display_name": "Python 3",
   "language": "python",
   "name": "python3"
  },
  "language_info": {
   "codemirror_mode": {
    "name": "ipython",
    "version": 3
   },
   "file_extension": ".py",
   "mimetype": "text/x-python",
   "name": "python",
   "nbconvert_exporter": "python",
   "pygments_lexer": "ipython3",
   "version": "3.7.3"
  }
 },
 "nbformat": 4,
 "nbformat_minor": 2
}
